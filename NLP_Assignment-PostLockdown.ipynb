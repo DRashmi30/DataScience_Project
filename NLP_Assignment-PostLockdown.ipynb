{
 "cells": [
  {
   "cell_type": "code",
   "execution_count": 1,
   "metadata": {},
   "outputs": [],
   "source": [
    "import pandas as pd\n",
    "\n",
    "from GoogleNews import GoogleNews\n",
    "import tweepy\n",
    "import re\n",
    "#import required libraries\n",
    "import nltk\n",
    "from nltk import sent_tokenize\n",
    "from nltk import word_tokenize"
   ]
  },
  {
   "cell_type": "code",
   "execution_count": 2,
   "metadata": {},
   "outputs": [],
   "source": [
    "keywordsList = ['e-commerce','ecommerce','Ecommerce','eCommerce','retail']\n",
    "\n",
    "searchTextList = []\n",
    "sourceList = []\n",
    "titleList = []\n",
    "mediaList = []\n",
    "dateList = []\n",
    "descList = []\n",
    "linkList = []\n",
    "detailedDescList = []"
   ]
  },
  {
   "cell_type": "code",
   "execution_count": 3,
   "metadata": {},
   "outputs": [],
   "source": [
    "consumer_key = \"\"\n",
    "consumer_secret = \"\"\n",
    "access_token = \"\"\n",
    "access_token_secret = \"\"\n",
    "auth = tweepy.OAuthHandler(consumer_key, consumer_secret)\n",
    "auth.set_access_token(access_token, access_token_secret)\n",
    "api = tweepy.API(auth,wait_on_rate_limit=True)"
   ]
  },
  {
   "cell_type": "code",
   "execution_count": 4,
   "metadata": {},
   "outputs": [],
   "source": [
    "googlenews = GoogleNews()\n",
    "googlenews.setlang('en')\n",
    "googlenews.setperiod('d')\n",
    "googlenews.setTimeRange('06/01/2020','09/26/2020')\n",
    "googlenews.setencode('utf-8')"
   ]
  },
  {
   "cell_type": "code",
   "execution_count": 5,
   "metadata": {},
   "outputs": [],
   "source": [
    "from bs4 import BeautifulSoup\n",
    "import requests\n",
    "import re\n",
    "def url_to_string(url):\n",
    "    res = requests.get(url)\n",
    "    html = res.text\n",
    "    soup = BeautifulSoup(html, 'html5lib')\n",
    "    for script in soup([\"script\", \"style\", 'aside']):\n",
    "        script.extract()\n",
    "    return \" \".join(re.split(r'[\\n\\t]+', soup.get_text()))"
   ]
  },
  {
   "cell_type": "code",
   "execution_count": 6,
   "metadata": {},
   "outputs": [
    {
     "name": "stdout",
     "output_type": "stream",
     "text": [
      "e-commerce\n",
      "ecommerce\n",
      "Ecommerce\n",
      "eCommerce\n",
      "retail\n"
     ]
    }
   ],
   "source": [
    "for searchText in keywordsList:\n",
    "    print(searchText)\n",
    "    googlenews.search(searchText)\n",
    "    newsResults = googlenews.result()\n",
    "    df = pd.DataFrame(newsResults)\n",
    "    for index, row in df.iterrows(): \n",
    "        #searchTextList.append(searchText)\n",
    "        sourceList.append(\"GoogleNews\")\n",
    "        titleList.append(row[\"title\"])\n",
    "        mediaList.append(row[\"media\"])\n",
    "        dateList.append(row[\"date\"])\n",
    "        descList.append(row[\"desc\"])\n",
    "        linkList.append(row[\"link\"])\n",
    "        detailedDescList.append(url_to_string(str(row[\"link\"])))\n",
    "    "
   ]
  },
  {
   "cell_type": "code",
   "execution_count": 7,
   "metadata": {},
   "outputs": [],
   "source": [
    "def get_text_for_tweet(id):\n",
    "    status = api.get_status(id)\n",
    "    return status.text.encode(\"utf-8\")"
   ]
  },
  {
   "cell_type": "code",
   "execution_count": 8,
   "metadata": {},
   "outputs": [],
   "source": [
    "def clean_tweet(tweet):\n",
    "    return ' '.join(re.sub('(@[A-Za-z0-9]+)|([^0-9A-Za-z \\t])|(\\w+:\\/\\/\\S+)', ' ', tweet).split())"
   ]
  },
  {
   "cell_type": "code",
   "execution_count": 10,
   "metadata": {},
   "outputs": [],
   "source": [
    "date_since = \"2020-06-01\"\n",
    "date_until = \"2020-09-26\"\n",
    "for search_term in keywordsList:\n",
    "    # Creation of query method using parameters\n",
    "    for tweet in tweepy.Cursor(api.search, \n",
    "            q='\\\"{}\\\" -filter:retweets'.format(search_term), \n",
    "            count=100, lang='en', tweet_mode='extended', since=date_since).items(100):\n",
    "        #searchTextList.append(searchText)\n",
    "        sourceList.append(\"Twitter\")\n",
    "        titleList.append(get_text_for_tweet(tweet.id))\n",
    "        mediaList.append(tweet.source)\n",
    "        dateList.append(tweet.created_at)\n",
    "        descList.append(clean_tweet(tweet.full_text))\n",
    "        linkList.append(tweet.source_url)\n",
    "        detailedDescList.append(clean_tweet(tweet.full_text))"
   ]
  },
  {
   "cell_type": "code",
   "execution_count": 11,
   "metadata": {},
   "outputs": [],
   "source": [
    "main_df = pd.DataFrame(list(zip(sourceList, titleList, mediaList, dateList, descList, linkList, detailedDescList)), \n",
    "               columns =['Source', 'Title', 'Media', 'Date', 'Description', 'Link', 'Detailed Description']) \n",
    "main_df.to_excel(\"NLP_Assignment_PostLockdown.xlsx\")  "
   ]
  },
  {
   "cell_type": "code",
   "execution_count": null,
   "metadata": {},
   "outputs": [],
   "source": [
    "main_df.head()"
   ]
  },
  {
   "cell_type": "code",
   "execution_count": null,
   "metadata": {},
   "outputs": [],
   "source": []
  }
 ],
 "metadata": {
  "kernelspec": {
   "display_name": "Python 3",
   "language": "python",
   "name": "python3"
  },
  "language_info": {
   "codemirror_mode": {
    "name": "ipython",
    "version": 3
   },
   "file_extension": ".py",
   "mimetype": "text/x-python",
   "name": "python",
   "nbconvert_exporter": "python",
   "pygments_lexer": "ipython3",
   "version": "3.7.7"
  }
 },
 "nbformat": 4,
 "nbformat_minor": 4
}
